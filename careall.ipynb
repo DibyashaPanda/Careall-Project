{
 "cells": [
  {
   "cell_type": "markdown",
   "metadata": {},
   "source": [
    "# CareAll Implemetation"
   ]
  },
  {
   "cell_type": "code",
   "execution_count": 47,
   "metadata": {},
   "outputs": [],
   "source": [
    "class Person:\n",
    "    seeker=[]\n",
    "    taker={}\n",
    "    accept={} #Keeps track of dict{caretaker:[careseeker]} \n",
    "    association={} #Keeps track of dict{careseeker:caretaker}\n",
    "    salarydict={} #Keeps track of dict{caretaker:[associatedcareseeker.salary]}\n",
    "    relationdict={}\n",
    "    assodict={}\n",
    "    MAX=4\n",
    "    \n",
    "    def __init__(self,name=None,uname=None,password=None,utype=None):\n",
    "        self.name=name\n",
    "        self.uname=uname\n",
    "        self.password=password\n",
    "        self.utype=utype\n",
    "        \n",
    "    def dis(self):\n",
    "        print(self.name)\n",
    "        print(self.utype)\n",
    "        print(self.uname)\n",
    "        print(self.password)\n",
    "        \n",
    "    def review(self,about,rating,review):\n",
    "        self.by=self.name\n",
    "        self.about=about.name\n",
    "        self.rating = rating\n",
    "        self.review = review\n",
    "        print('ReviewedBy: {}'.format(self.by))\n",
    "        print('ReviewedAbout:',self.about)\n",
    "        print('Rating:',self.rating)\n",
    "        print('Review: {}\\n'.format(self.review))\n",
    "        \n",
    "        \n",
    "    def report():\n",
    "        print(\"Showing who is taking care of older couple:\")\n",
    "        print(\"-\"*50)\n",
    "        for k,v in Person.assodict.items():\n",
    "            print(' >{} is taking care of {} : ({},{})'.format(v,k,v,k))\n",
    "        \n",
    "        print(\"\\nShowing who all a young chap is currently taking care:\")\n",
    "        print(\"-\"*50)\n",
    "        for k,v in Person.relationdict.items():\n",
    "            print(' >{} is currently taking care of {}'.format(k,v))        \n",
    "        \n",
    "        \n",
    "        \n",
    "class careseeker(Person):   \n",
    "    \n",
    "    def __init__(self,name=None,uname=None,password=None):\n",
    "        self.utype=1\n",
    "        Person.__init__(self,name,uname,password,self.utype)\n",
    "        self.jobactive=False\n",
    "    \n",
    "    def jobcreate(self,payment,desc=None,duration=1):\n",
    "        if not self.jobactive:\n",
    "            self.desc=desc\n",
    "            self.payment=payment\n",
    "            self.duration=duration\n",
    "            self.jobactive=True\n",
    "            print(\"Job Created by {} is ACTIVE\".format(self.name))\n",
    "            Person.seeker.append(self)\n",
    "        else:\n",
    "            print(\"{} Cant Create New job since a job is Currently Active!\".format(self.name))\n",
    "    \n",
    "    def viewapplication(self):\n",
    "        print(\"Applicant\\'s for {}\\'s job are:\".format(self.name))\n",
    "        optioncounter = 0\n",
    "        for k,v in Person.taker.items():\n",
    "            if k is self:\n",
    "                for i,x in enumerate(v): #for printing list inside dict\n",
    "                    print(i+1,x.name)\n",
    "    \n",
    "    \n",
    "    def jobaccept(self,option):\n",
    "        if Person.accept.get(Person.taker[self][option-1]) == None:\n",
    "            Person.accept[Person.taker[self][option-1]]=[]\n",
    "            Person.accept[Person.taker[self][option-1]].append(self)\n",
    "            Person.relationdict[Person.taker[self][option-1].name]=[]\n",
    "            Person.relationdict[Person.taker[self][option-1].name].append(self.name)            \n",
    "            \n",
    "            if Person.association.get(self) is None:\n",
    "                Person.association[self]=Person.taker[self][option-1]\n",
    "                Person.assodict[self.name]=Person.taker[self][option-1].name\n",
    "                print(\"{} Accepted {}\".format(self.name,Person.association[self].name))\n",
    "                \n",
    "                if Person.salarydict.get(Person.taker[self][option-1]) == None:\n",
    "                    Person.salarydict[Person.taker[self][option-1]]=[]\n",
    "                    Person.salarydict[Person.taker[self][option-1]].append(self.payment)\n",
    "                else:\n",
    "                    Person.salarydict[Person.taker[self][option-1]].append(self.payment)\n",
    "            else:\n",
    "                print(\"You Cannot Accept New Applicant. You are on a contract with {}\".format(Person.association[self].name))\n",
    "                del Person.accept[Person.taker[self][option-1]]\n",
    "                del Person.relationdict[Person.taker[self][option-1].name]\n",
    "        \n",
    "        else:\n",
    "            \n",
    "            if(len(Person.accept[Person.taker[self][option-1]])>=Person.MAX):                \n",
    "                print('{}\\'s Maximum Limit had Reached'.format(Person.taker[self][option-1].name))\n",
    "            else:\n",
    "                Person.accept[Person.taker[self][option-1]].append(self)\n",
    "                Person.relationdict[Person.taker[self][option-1].name].append(self.name)\n",
    "                \n",
    "                if Person.association.get(self) is None:\n",
    "                    Person.association[self]=Person.taker[self][option-1]\n",
    "                    \n",
    "                    Person.assodict[self.name]=Person.taker[self][option-1].name\n",
    "                    print(\"{} Accepted {}\".format(self.name,Person.association[self].name))\n",
    "                    \n",
    "                    if Person.salarydict.get(Person.taker[self][option-1]) == None:\n",
    "                        Person.salarydict[Person.taker[self][option-1]]=[]\n",
    "                        Person.salarydict[Person.taker[self][option-1]].append(self.payment)\n",
    "                    else:\n",
    "                        Person.salarydict[Person.taker[self][option-1]].append(self.payment)\n",
    "                else:\n",
    "                    print(\"You Cannot Accept New Applicant. You are on a contract with {}\".format(Person.association[self].name))\n",
    "        def jobclose(self):\n",
    "            self.jobactive=False\n",
    "        \n",
    "class caretaker(Person):\n",
    "    \n",
    "    def __init__(self,name=None,uname=None,password=None):\n",
    "        self.utype=2\n",
    "        self.applied=[]\n",
    "        Person.__init__(self,name,uname,password,self.utype)\n",
    "            \n",
    "    def jobview(self):\n",
    "        print(\"JOB list for {}\".format(self.name))\n",
    "        for i,x in enumerate(Person.seeker):\n",
    "            self.joboption=i+1\n",
    "            print(self.joboption,x.name,x.payment)\n",
    "    \n",
    "    def apply(self,option):\n",
    "        if Person.taker.get(Person.seeker[option-1]) == None:\n",
    "            Person.taker[Person.seeker[option-1]]=[]\n",
    "            Person.taker[Person.seeker[option-1]].append(self)\n",
    "        else:\n",
    "            Person.taker[Person.seeker[option-1]].append(self)\n",
    "        print(\"{} Applied for {}\".format(self.name,Person.seeker[option-1].name))\n",
    "    \n",
    "    def salary(self):\n",
    "        sum=0\n",
    "        for i in Person.salarydict[self]:\n",
    "            sum=sum+i\n",
    "        print(sum)"
   ]
  },
  {
   "cell_type": "markdown",
   "metadata": {},
   "source": [
    "# Initializing careseeker objects"
   ]
  },
  {
   "cell_type": "code",
   "execution_count": 48,
   "metadata": {},
   "outputs": [],
   "source": [
    "priya=careseeker(\"Priya\")\n",
    "rohan=careseeker(\"Rohan\")\n",
    "amit=careseeker(\"Amit\")\n",
    "ritu=careseeker(\"Ritu\")\n",
    "karan=careseeker(\"Karan\")\n",
    "joy=careseeker(\"Joy\")"
   ]
  },
  {
   "cell_type": "markdown",
   "metadata": {},
   "source": [
    "# Creating jobs for careseeker"
   ]
  },
  {
   "cell_type": "code",
   "execution_count": 49,
   "metadata": {},
   "outputs": [
    {
     "name": "stdout",
     "output_type": "stream",
     "text": [
      "Job Created by Priya is ACTIVE\n",
      "Job Created by Rohan is ACTIVE\n",
      "Job Created by Amit is ACTIVE\n",
      "Job Created by Ritu is ACTIVE\n",
      "Job Created by Karan is ACTIVE\n",
      "Job Created by Joy is ACTIVE\n"
     ]
    }
   ],
   "source": [
    "priya.jobcreate(1000)\n",
    "rohan.jobcreate(500)\n",
    "amit.jobcreate(1500)\n",
    "ritu.jobcreate(2000)\n",
    "karan.jobcreate(600)\n",
    "joy.jobcreate(900)"
   ]
  },
  {
   "cell_type": "markdown",
   "metadata": {},
   "source": [
    "# Initializing caretaker objects"
   ]
  },
  {
   "cell_type": "code",
   "execution_count": 50,
   "metadata": {},
   "outputs": [],
   "source": [
    "rakesh=caretaker(\"Rakesh\")\n",
    "rocky=caretaker(\"Rocky\")\n",
    "ajay=caretaker(\"Ajay\")\n",
    "mitu=caretaker(\"Mitu\")"
   ]
  },
  {
   "cell_type": "markdown",
   "metadata": {},
   "source": [
    "# Displaying list of currently available jobs"
   ]
  },
  {
   "cell_type": "code",
   "execution_count": 51,
   "metadata": {},
   "outputs": [
    {
     "name": "stdout",
     "output_type": "stream",
     "text": [
      "JOB list for Rakesh\n",
      "1 Priya 1000\n",
      "2 Rohan 500\n",
      "3 Amit 1500\n",
      "4 Ritu 2000\n",
      "5 Karan 600\n",
      "6 Joy 900\n",
      "JOB list for Ajay\n",
      "1 Priya 1000\n",
      "2 Rohan 500\n",
      "3 Amit 1500\n",
      "4 Ritu 2000\n",
      "5 Karan 600\n",
      "6 Joy 900\n"
     ]
    }
   ],
   "source": [
    "rakesh.jobview()\n",
    "ajay.jobview()"
   ]
  },
  {
   "cell_type": "markdown",
   "metadata": {},
   "source": [
    "# Caretakers applying for jobs"
   ]
  },
  {
   "cell_type": "code",
   "execution_count": 52,
   "metadata": {},
   "outputs": [
    {
     "name": "stdout",
     "output_type": "stream",
     "text": [
      "Mitu Applied for Ritu\n",
      "Mitu Applied for Amit\n",
      "Mitu Applied for Priya\n",
      "Mitu Applied for Rohan\n",
      "Mitu Applied for Joy\n",
      "Rakesh Applied for Joy\n",
      "Ajay Applied for Joy\n"
     ]
    }
   ],
   "source": [
    "mitu.apply(4)\n",
    "mitu.apply(3)\n",
    "mitu.apply(1)\n",
    "mitu.apply(2)\n",
    "mitu.apply(6)\n",
    "rakesh.apply(6)\n",
    "ajay.apply(6)"
   ]
  },
  {
   "cell_type": "markdown",
   "metadata": {},
   "source": [
    "# List of applicants for caretaker jobs"
   ]
  },
  {
   "cell_type": "code",
   "execution_count": 53,
   "metadata": {},
   "outputs": [
    {
     "name": "stdout",
     "output_type": "stream",
     "text": [
      "Applicant's for Priya's job are:\n",
      "1 Mitu\n",
      "Applicant's for Amit's job are:\n",
      "1 Mitu\n",
      "Applicant's for Joy's job are:\n",
      "1 Mitu\n",
      "2 Rakesh\n",
      "3 Ajay\n"
     ]
    }
   ],
   "source": [
    "priya.viewapplication()\n",
    "amit.viewapplication()\n",
    "joy.viewapplication()"
   ]
  },
  {
   "cell_type": "markdown",
   "metadata": {},
   "source": [
    "# Caretakers approving the applicants and limiting 4 elders(careseeker) per caretaker"
   ]
  },
  {
   "cell_type": "code",
   "execution_count": 54,
   "metadata": {},
   "outputs": [
    {
     "name": "stdout",
     "output_type": "stream",
     "text": [
      "Priya Accepted Mitu\n",
      "Ritu Accepted Mitu\n",
      "Amit Accepted Mitu\n",
      "Rohan Accepted Mitu\n",
      "Mitu's Maximum Limit had Reached\n",
      "Joy Accepted Rakesh\n",
      "You Cannot Accept New Applicant. You are on a contract with Rakesh\n"
     ]
    }
   ],
   "source": [
    "priya.jobaccept(1)\n",
    "ritu.jobaccept(1)\n",
    "amit.jobaccept(1)\n",
    "rohan.jobaccept(1)\n",
    "joy.jobaccept(1)\n",
    "joy.jobaccept(2)\n",
    "joy.jobaccept(3)"
   ]
  },
  {
   "cell_type": "markdown",
   "metadata": {},
   "source": [
    "# Diplay total money earned by caretaker"
   ]
  },
  {
   "cell_type": "code",
   "execution_count": 56,
   "metadata": {},
   "outputs": [
    {
     "name": "stdout",
     "output_type": "stream",
     "text": [
      "900\n",
      "5000\n"
     ]
    }
   ],
   "source": [
    "rakesh.salary()\n",
    "mitu.salary()"
   ]
  },
  {
   "cell_type": "markdown",
   "metadata": {},
   "source": [
    "# Users reviewing each other"
   ]
  },
  {
   "cell_type": "code",
   "execution_count": 57,
   "metadata": {},
   "outputs": [
    {
     "name": "stdout",
     "output_type": "stream",
     "text": [
      "ReviewedBy: Priya\n",
      "ReviewedAbout: Mitu\n",
      "Rating: 5\n",
      "Review: Good Caretaker but not punctual\n",
      "\n",
      "ReviewedBy: Rakesh\n",
      "ReviewedAbout: Joy\n",
      "Rating: 8\n",
      "Review: Nice Person\n",
      "\n"
     ]
    }
   ],
   "source": [
    "priya.review(mitu,5,\"Good Caretaker but not punctual\")\n",
    "rakesh.review(joy,8,\"Nice Person\")"
   ]
  },
  {
   "cell_type": "markdown",
   "metadata": {},
   "source": [
    "# Results: • Showing who is taking care of older couple • Showing who all a young chap is currently taking care"
   ]
  },
  {
   "cell_type": "code",
   "execution_count": 58,
   "metadata": {},
   "outputs": [
    {
     "name": "stdout",
     "output_type": "stream",
     "text": [
      "Showing who is taking care of older couple:\n",
      "--------------------------------------------------\n",
      " >Mitu is taking care of Priya : (Mitu,Priya)\n",
      " >Mitu is taking care of Ritu : (Mitu,Ritu)\n",
      " >Mitu is taking care of Amit : (Mitu,Amit)\n",
      " >Mitu is taking care of Rohan : (Mitu,Rohan)\n",
      " >Rakesh is taking care of Joy : (Rakesh,Joy)\n",
      "\n",
      "Showing who all a young chap is currently taking care:\n",
      "--------------------------------------------------\n",
      " >Mitu is currently taking care of ['Priya', 'Ritu', 'Amit', 'Rohan']\n",
      " >Rakesh is currently taking care of ['Joy']\n"
     ]
    }
   ],
   "source": [
    "Person.report()"
   ]
  }
 ],
 "metadata": {
  "kernelspec": {
   "display_name": "Python 3",
   "language": "python",
   "name": "python3"
  },
  "language_info": {
   "codemirror_mode": {
    "name": "ipython",
    "version": 3
   },
   "file_extension": ".py",
   "mimetype": "text/x-python",
   "name": "python",
   "nbconvert_exporter": "python",
   "pygments_lexer": "ipython3",
   "version": "3.6.5"
  }
 },
 "nbformat": 4,
 "nbformat_minor": 2
}
